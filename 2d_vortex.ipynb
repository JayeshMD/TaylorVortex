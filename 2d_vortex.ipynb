{
 "cells": [
  {
   "cell_type": "code",
   "execution_count": null,
   "metadata": {},
   "outputs": [],
   "source": [
    "%matplotlib widget\n",
    "import warnings\n",
    "import numpy as np\n",
    "import matplotlib.pyplot as plt"
   ]
  },
  {
   "cell_type": "code",
   "execution_count": null,
   "metadata": {},
   "outputs": [],
   "source": [
    "class CartesianGrid:\n",
    "    def __init__(self, lx, ly, nx, ny):\n",
    "        print(\"Initializing grid.\")\n",
    "        if ((nx%2)+(ny%2)) > 0:\n",
    "            raise Exception(\"Number of points along each coordinate should be multiple of 2 for successful padding.\")\n",
    "\n",
    "        self.lx = lx\n",
    "        self.ly = ly\n",
    "        self.nx = nx\n",
    "        self.ny = ny\n",
    "\n",
    "        self.lxp = (lx * 3)//2\n",
    "        self.lyp = (ly * 3)//2\n",
    "        self.nxp = (nx * 3)//2\n",
    "        self.nyp = (ny * 3)//2\n",
    "\n",
    "        self.x  = np.linspace(0, lx, nx)\n",
    "        self.y  = np.linspace(0, ly, ny)\n",
    "        self.dx = self.x[1]-self.x[0]\n",
    "        self.dy = self.y[1]-self.y[0]\n",
    "        self.X, self.Y = np.meshgrid(self.x, self.y)\n"
   ]
  },
  {
   "cell_type": "code",
   "execution_count": null,
   "metadata": {},
   "outputs": [],
   "source": [
    "def TaylorVortex(grid, x0, y0, a0, Umax):\n",
    "    # | -n,n   |-(n-1),n  |...|0,n  |...|n,n  |\n",
    "    # | -n,n-1 |-(n-1),n-1|...|0,n-1|...|n,n-1|\n",
    "    #      :       :         :  :          :\n",
    "    # | -n,0   |-(n-1),0  |...|0,0  |...|n,0  |\n",
    "    #    :         :              :        :\n",
    "    # | -n,-n  |-(n-1),-n |...|0,-n |...|n,-n |\n",
    "\n",
    "    # Due to periodic domain -n to n domain effects \n",
    "    # along x and y directions are considered while \n",
    "    # computing omega in (0,0) i.e. current domain.\n",
    "    n = 1   \n",
    "    omega = 0\n",
    "    for i in range(-n,n+1):\n",
    "        for j in range(-n,n+1):\n",
    "            h = x0 + i* grid.lx\n",
    "            k = y0 + j* grid.ly\n",
    "            r2 = (grid.X - h)**2 + (grid.Y-k)**2\n",
    "            omega = omega + Umax/a0*(2-r2/a0**2)*np.exp(0.5*(1-r2/a0**2))\n",
    "    omegahat = np.fft.fft2(omega)\n",
    "    \n",
    "    return omegahat"
   ]
  },
  {
   "cell_type": "code",
   "execution_count": null,
   "metadata": {},
   "outputs": [],
   "source": [
    "def rk4(f , x0, t, dt):\n",
    "    k1 = f(t, x0)\n",
    "    k2 = f(t+0.5*dt, x0 + 0.5*dt*k1)\n",
    "    k3 = f(t+0.5*dt, x0 + 0.5*dt*k2)\n",
    "    k4 = f(t+dt    , x0 +     dt*k3)\n",
    "    xn = x0 + dt/6*(k1+2*(k2+k3)+k4)\n",
    "    return xn"
   ]
  },
  {
   "cell_type": "markdown",
   "metadata": {},
   "source": [
    "# Here we will solve the vorticity equation\n",
    "\n",
    "Momentum equation can be written as,\n",
    "\n",
    "$$\n",
    "\\rho\\frac{\\partial\\vec{u}}{\\partial t} \n",
    "+ \\rho (\\vec{u}.\\nabla) \\vec{u}= \n",
    "- \\nabla p\n",
    "+ \\vec{g}\n",
    "+ \\mu \\nabla^2 \\vec{u}\n",
    "$$"
   ]
  },
  {
   "cell_type": "markdown",
   "metadata": {},
   "source": [
    "Taking curl of this equation,\n",
    "\n",
    "$$\n",
    "\\nabla\\times\\bigg[\n",
    "\\rho\\frac{\\partial\\vec{u}}{\\partial t} \n",
    "+ \\rho (\\vec{u}.\\nabla) \\vec{u}\n",
    "\\bigg]\n",
    "=\n",
    "\\nabla\\times\\bigg[\n",
    "- \\nabla p\n",
    "+ \\vec{g}\n",
    "+ \\mu \\nabla^2 \\vec{u}\n",
    "\\bigg]\n",
    "$$"
   ]
  },
  {
   "cell_type": "markdown",
   "metadata": {},
   "source": [
    "Assuming incompressible fluid i.e. $\\rho$ is constant and $\\nabla . \\vec{u} = 0$ and with identity $\\nabla \\times \\vec{u}=\\vec{\\omega}$\n",
    "\n",
    "$$\n",
    "\\rho\\frac{\\partial\\vec{\\omega}}{\\partial t} \n",
    "+ \\rho \\nabla\\times [(\\vec{u}.\\nabla) \\vec{u}]\n",
    "=\n",
    "- \\nabla\\times (\\nabla p)\n",
    "+ \\nabla\\times (\\vec{g})\n",
    "+ \\mu \\nabla\\times (\\nabla^2 \\vec{u})\n",
    "$$"
   ]
  },
  {
   "cell_type": "markdown",
   "metadata": {},
   "source": [
    "using identity $\\nabla \\times (\\nabla \\phi) = 0 $ where $\\phi$ is scaler function.\n",
    "\n",
    "$$\n",
    "\\frac{\\partial\\vec{\\omega}}{\\partial t} \n",
    "+ \\nabla\\times [\\nabla (\\vec{u}.\\vec{u}) + (\\nabla \\times \\vec{u})\\times \\vec{u}]\n",
    "=\n",
    "\\nu \\nabla^2 \\vec{\\omega}\n",
    "$$"
   ]
  },
  {
   "cell_type": "markdown",
   "metadata": {},
   "source": [
    "here, $(\\vec{u}.\\vec{u})$ is a scalar field thus,\n",
    "\n",
    "$$\n",
    "\\frac{\\partial\\vec{\\omega}}{\\partial t} \n",
    "+ \\nabla\\times [\\vec{\\omega}\\times \\vec{u}]\n",
    "=\n",
    "\\nu \\nabla^2 \\vec{\\omega}\n",
    "$$\n"
   ]
  },
  {
   "cell_type": "markdown",
   "metadata": {},
   "source": [
    "we will use,\n",
    "\n",
    "$$\n",
    "\\nabla\\times (\\vec{\\omega}\\times \\vec{u}) \n",
    "= \n",
    "(\\vec{u}.\\nabla)\\vec{\\omega}\n",
    "-(\\vec{\\omega}.\\nabla)\\vec{u}\n",
    "$$\n",
    "\n",
    "$$\n",
    "\\frac{\\partial\\vec{\\omega}}{\\partial t} \n",
    "=\n",
    "\\nu \\nabla^2 \\vec{\\omega}\n",
    "+(\\vec{\\omega}.\\nabla)\\vec{u}\n",
    "- (\\vec{u}.\\nabla)\\vec{\\omega}\n",
    "$$"
   ]
  },
  {
   "cell_type": "markdown",
   "metadata": {},
   "source": [
    "For 2D case, \n",
    "$$\\vec{\\omega}=\\omega(x,y)\\hat{k}$$\n",
    "$$\\vec{u}= u \\hat{i}+ v \\hat{j}$$ \n",
    "\n",
    "$$\n",
    "(\\vec{\\omega}.\\nabla)\\vec{u} = \n",
    "\\omega\\frac{\\partial}{\\partial z} \\vec{u} \n",
    "= 0 \n",
    "$$\n",
    "as $\\vec{u}$ is independent of $z$."
   ]
  },
  {
   "cell_type": "markdown",
   "metadata": {},
   "source": [
    "Now the equation will contain only $z$ component from all terma as,\n",
    "\n",
    "$$\n",
    "\\frac{\\partial{\\omega}}{\\partial t} \n",
    "=\n",
    "\\nu \\bigg(  \\frac{\\partial^2 \\omega}{\\partial x^2} +\n",
    "            \\frac{\\partial^2 \\omega}{\\partial y^2}\n",
    "    \\bigg) \n",
    "-  \\bigg(   u\\frac{\\partial \\omega}{\\partial x} +\n",
    "            v\\frac{\\partial \\omega}{\\partial y}\n",
    "   \\bigg)\n",
    "$$\n",
    "\n",
    "$$\n",
    "\\boxed{\n",
    "\\frac{\\partial{\\omega}}{\\partial t} \n",
    "=\n",
    "\\nu \\bigg(  \\frac{\\partial^2 \\omega}{\\partial x^2} +\n",
    "            \\frac{\\partial^2 \\omega}{\\partial y^2}\n",
    "    \\bigg) \n",
    "-  \\bigg(   u\\frac{\\partial \\omega}{\\partial x} +\n",
    "            v\\frac{\\partial \\omega}{\\partial y}\n",
    "   \\bigg)\n",
    "}\n",
    "\\tag{eq:vorticity-physical}\n",
    "$$"
   ]
  },
  {
   "cell_type": "markdown",
   "metadata": {},
   "source": [
    "Let, \n",
    "$$\n",
    "\\vec{u} = \\nabla \\times \\vec{\\psi}(x,y) = \n",
    "\\begin{bmatrix}\n",
    "\\hat{i}  &  \\hat{i} & \\hat{i} \\\\\n",
    "\\frac{\\partial}{\\partial x} & \\frac{\\partial}{\\partial y} & \\frac{\\partial}{\\partial z} \\\\\n",
    "0 & 0 & \\psi\n",
    "\\end{bmatrix}\n",
    "$$\n",
    "\n",
    "$$\n",
    "\\vec{u} =\n",
    "\\frac{\\partial \\psi}{\\partial y} \\hat{i}\n",
    "- \\frac{\\partial \\psi}{\\partial x} \\hat{j}\n",
    "$$\n",
    "\n",
    "$$\n",
    "\\boxed{\n",
    "u = \\frac{\\partial \\psi}{\\partial y} ,\\hspace{0.5cm}\n",
    "v = - \\frac{\\partial \\psi}{\\partial x}\n",
    "}\n",
    "\\tag{eq:velocity-physical}\n",
    "$$\n",
    "\n"
   ]
  },
  {
   "cell_type": "markdown",
   "metadata": {},
   "source": [
    "$$\n",
    "\\vec{\\omega}  = \\nabla \\times ( \\nabla \\times \\vec{\\psi} )\n",
    "$$\n",
    "\n",
    "$$\n",
    "\\vec{\\omega}  = \\nabla ( \\nabla . \\vec{\\psi} )\n",
    "- \\nabla^2 \\vec{\\psi}\n",
    "$$"
   ]
  },
  {
   "cell_type": "markdown",
   "metadata": {},
   "source": [
    "Here,\n",
    "\n",
    "$$\n",
    "\\nabla.\\vec{\\psi} = (\\hat{i}\\frac{\\partial}{\\partial x}+\n",
    "                      \\hat{j}\\frac{\\partial}{\\partial y} +\n",
    "                      \\hat{k}\\frac{\\partial}{\\partial z}).(\\psi \\hat{k})\n",
    "                 = 0\n",
    "$$\n",
    "as $\\psi$ is function of $x$ and $y$.\n",
    "\n",
    "$$\n",
    "\\vec{\\omega}  = - \\nabla^2 \\vec{\\psi}\n",
    "$$"
   ]
  },
  {
   "cell_type": "markdown",
   "metadata": {},
   "source": [
    "as $\\vec{\\psi} = \\psi(x,y)\\hat{k}$,\n",
    "\n",
    "$$\n",
    "\\vec{\\omega} = - \\bigg( \\frac{\\partial^2}{\\partial x^2}\n",
    "                       +\\frac{\\partial^2}{\\partial y^2}\n",
    "                       +\\frac{\\partial^2}{\\partial z^2}\n",
    "                 \\bigg) (\\psi \\hat{k})\n",
    "$$"
   ]
  },
  {
   "cell_type": "markdown",
   "metadata": {},
   "source": [
    "\n",
    "\n",
    "Thus,\n",
    "\n",
    "$$\n",
    "\\vec{\\omega} = - \\bigg( \\frac{\\partial^2\\psi}{\\partial x^2}\n",
    "                       +\\frac{\\partial^2\\psi}{\\partial y^2}\n",
    "                 \\bigg) \\hat{k}\n",
    "$$\n",
    "\n",
    "Thus $\\vec{\\omega}=\\omega \\hat{k}$ has only $z$ component.\n",
    "$$\n",
    "\\omega = - \\bigg( \\frac{\\partial^2\\psi}{\\partial x^2}\n",
    "                       +\\frac{\\partial^2\\psi}{\\partial y^2}\n",
    "                 \\bigg)\n",
    "$$"
   ]
  },
  {
   "cell_type": "markdown",
   "metadata": {},
   "source": [
    "For 1D case, vorticity at $x_m$ is,\n",
    "$$\n",
    "\\omega_m = \\sum_{n=0}^{M-1} \\hat{\\omega}_n e^{2\\pi \\iota (m n)/M}\n",
    "$$\n",
    "\n",
    "here $L$ length domain is divided into $M$ parts.\n",
    "$$\n",
    "\\omega_m = \\sum_{n=0}^{M-1} \\hat{\\omega}_n e^{\\iota (2\\pi  n/L) (m L/M)}\n",
    "$$\n",
    "\n",
    "$$\n",
    "\\omega_m = \\sum_{n=0}^{M-1} \\hat{\\omega}_n e^{\\iota k_n x_m}\n",
    "$$"
   ]
  },
  {
   "cell_type": "markdown",
   "metadata": {},
   "source": [
    "\n",
    "Generalizing to 2D case,\n",
    "$$\n",
    "\\omega(x_p,y_q)=\\omega_{p,q} = \\sum_{m=0}^{M-1} \\sum_{n=0}^{M-1} \\hat{\\omega}_{m,n} e^{\\iota [k_x(m) x_p + k_y(n) y_q]}\n",
    "$$\n",
    "\n",
    "$$\n",
    "\\psi_{p,q} = \\sum_{m=0}^{M-1} \\sum_{n=0}^{M-1} \\hat{\\psi}_{m,n} e^{\\iota [k_x(m) x_p + k_y(n) y_q]}\n",
    "$$\n",
    "\n",
    "\n",
    "$$\n",
    "\\bigg(\\frac{\\partial^2 \\psi}{\\partial x^2} + \\frac{\\partial^2 \\psi}{\\partial y^2} \\bigg)_{p,q}= \n",
    "-\\sum_{m=0}^{M-1} \\sum_{n=0}^{M-1} [k_x^2(m) + k_y^2(n)] \\hat{\\psi}_{m,n} e^{\\iota [k_x(m) x_p + k_y(n) y_q]}\n",
    "$$\n",
    "\n",
    "\n"
   ]
  },
  {
   "cell_type": "markdown",
   "metadata": {},
   "source": [
    "$$\n",
    "\\omega_{p,q} = -\\bigg(\\frac{\\partial^2 \\psi}{\\partial x^2} + \\frac{\\partial^2 \\psi}{\\partial y^2} \\bigg)= \n",
    "\\sum_{m=0}^{M-1} \\sum_{n=0}^{M-1} [k_x^2(m) + k_y^2(n)] \\hat{\\psi}_{m,n} e^{\\iota [k_x(m) x_p + k_y(n) y_q]}\n",
    "$$\n",
    "\n",
    "$$\n",
    "\\hat{\\omega}_{m,n} = \n",
    "[k_x^2(m) + k_y^2(n)] \\hat{\\psi}_{m,n} \n",
    "$$\n",
    "\n",
    "$$\n",
    "\\hat{\\psi}_{m,n}  = \\frac{1}{[k_x^2(m) + k_y^2(n)] }\\hat{\\omega}_{m,n}\n",
    "$$\n"
   ]
  },
  {
   "cell_type": "markdown",
   "metadata": {},
   "source": [
    "$$\n",
    "u_{p,q}  = \\frac{\\partial \\psi}{\\partial y}= \\sum_{m=0}^{M-1} \\sum_{n=0}^{M-1} \\iota k_y(n) \\hat{\\psi}_{m,n} e^{\\iota [k_x(m) x_p + k_y(n) y_q]}\n",
    "$$\n",
    "\n",
    "$$\n",
    "\\boxed{\n",
    "\\hat{u}_{m,n}  = \\iota k_y(n) \\hat{\\psi}_{m,n} \n",
    "}\n",
    "$$\n",
    "\n"
   ]
  },
  {
   "cell_type": "markdown",
   "metadata": {},
   "source": [
    "$$\n",
    "v_{p,q}  =-\\frac{\\partial \\psi}{\\partial x}= -\\sum_{m=0}^{M-1} \\sum_{n=0}^{M-1} \\iota k_x(m) \\hat{\\psi}_{m,n} e^{\\iota [k_x(m) x_p + k_y(n) y_q]}\n",
    "$$\n",
    "\n",
    "$$\n",
    "\\boxed{\n",
    "\\hat{v}_{m,n}  = - \\iota k_x(m) \\hat{\\psi}_{m,n} \n",
    "}\n",
    "$$"
   ]
  },
  {
   "cell_type": "markdown",
   "metadata": {},
   "source": [
    "# Collecting all terms that are required to evolve vortivity field"
   ]
  },
  {
   "cell_type": "markdown",
   "metadata": {},
   "source": [
    "$$\n",
    "\\boxed{\n",
    "\\frac{\\partial{\\omega}}{\\partial t} \n",
    "=\n",
    "\\nu \\bigg(  \\frac{\\partial^2 \\omega}{\\partial x^2} +\n",
    "            \\frac{\\partial^2 \\omega}{\\partial y^2}\n",
    "    \\bigg) \n",
    "-  \\bigg(   u\\frac{\\partial \\omega}{\\partial x} +\n",
    "            v\\frac{\\partial \\omega}{\\partial y}\n",
    "   \\bigg)\n",
    "}\n",
    "\\tag{eq:vorticity-physical}\n",
    "$$"
   ]
  },
  {
   "cell_type": "markdown",
   "metadata": {},
   "source": [
    "$$\n",
    "\\boxed{\n",
    "\\frac{\\partial \\hat{\\omega}_{m,n}}{\\partial t}\n",
    "=\n",
    "-\\nu [ k^2_x(m) +  k^2_y(n)]\\hat{\\omega}_{m,n}\n",
    "+ \\hat{A}\n",
    "}\n",
    "\\tag{eq:vorticity-transformed}\n",
    "$$\n",
    "\n",
    "Here, Fourier transformed $\\hat{A}$ is the advection term."
   ]
  },
  {
   "cell_type": "markdown",
   "metadata": {},
   "source": [
    "$$\n",
    "A = \n",
    "-  \\bigg(   u\\frac{\\partial \\omega}{\\partial x} +\n",
    "            v\\frac{\\partial \\omega}{\\partial y}\n",
    "   \\bigg)\n",
    "$$\n",
    "\n",
    "This term has to be carefully compted to avoid aliasing"
   ]
  },
  {
   "cell_type": "markdown",
   "metadata": {},
   "source": [
    "$$\n",
    "\\frac{\\partial \\omega}{\\partial x} = \\omega_x\n",
    "$$"
   ]
  },
  {
   "cell_type": "markdown",
   "metadata": {},
   "source": [
    "$$\n",
    "\\hat{\\omega}_x(k_x(m), k_y(n)) = \\big(\\hat{\\omega}_x\\big)_{m,n} = \\iota k_x(m) \\hat{\\omega}\n",
    "$$"
   ]
  },
  {
   "cell_type": "markdown",
   "metadata": {},
   "source": [
    "For 1D case using $2/3$ rule we will pad it, $L>3M/2$ where $M$ is original length of data and $L$ is the legth of data after padding, \n",
    "\n",
    "$$\n",
    "\\hat{u} = \\{ \\hat{u}_{-\\frac{M}{2}+1}, \\cdots, \\hat{u}_{-1}, \\hat{u}_{0},  \\hat{u}_{1}, \\cdots, \\hat{u}_{\\frac{M}{2}}\\}\n",
    "$$\n",
    "\n",
    "$$\n",
    "\\hat{u}_{pad} = \\{\\underbrace{0}_{(\\frac{-3M}{4}+1)^{th}}, \\cdots, 0, \\hat{u}_{-\\frac{M}{2}+1}, \\cdots, \\hat{u}_{-1}, \\hat{u}_{0},  \\hat{u}_{1}, \\cdots, \\hat{u}_{\\frac{M}{2}}, 0, \\cdots, \\underbrace{0}_{(\\frac{3M}{4})^{th}} \\}\n",
    "$$\n"
   ]
  },
  {
   "cell_type": "markdown",
   "metadata": {},
   "source": [
    "when actual Fourier transform is computed the output vector is,\n",
    "$$\n",
    "\\hat{u} = \\{ \\hat{u}_{0},  \\hat{u}_{1}, \\cdots, \\hat{u}_{\\frac{M}{2}}, \\hat{u}_{-\\frac{M}{2}+1}, \\cdots, \\hat{u}_{-1}\\}\n",
    "$$\n",
    "\n",
    "which is equivalent to,\n",
    "$$\n",
    "\\hat{u} = \\{ \\hat{u}_{0},  \\hat{u}_{1}, \\cdots, \\hat{u}_{\\frac{M}{2}}, \\hat{u}_{\\frac{M}{2}+1}, \\cdots, \\hat{u}_{M-1}\\}\n",
    "$$\n",
    "\n",
    "as $\\hat{u}_m = \\hat{u}_{m\\pm M}$\n",
    "\n",
    "Thus,\n",
    "$$\n",
    "\\hat{u}_{pad} = \\{\\underbrace{0, \\cdots, 0, \\hat{u}_{-\\frac{M}{2}+1}, \\cdots, \\hat{u}_{-1}}_{\\text{adding $M$ to index}}, \\hat{u}_{0},  \\hat{u}_{1}, \\cdots, \\hat{u}_{\\frac{M}{2}}, 0, \\cdots, \\underbrace{0}_{(\\frac{3M}{4})^{th}} \\}\n",
    "$$"
   ]
  },
  {
   "cell_type": "markdown",
   "metadata": {},
   "source": [
    "$$\n",
    "\\hat{u}_{pad} = \\{\\underbrace{0, \\cdots, 0, \\hat{u}_{-\\frac{M}{2}+1}, \\cdots, \\hat{u}_{-1}}_{\\text{adding $3M/2$ to index}}, \\hat{u}_{0},  \\hat{u}_{1}, \\cdots, \\hat{u}_{\\frac{M}{2}}, 0, \\cdots, \\underbrace{0}_{(\\frac{3M}{4})^{th}} \\}\n",
    "$$"
   ]
  },
  {
   "cell_type": "markdown",
   "metadata": {},
   "source": [
    "$$\n",
    "\\hat{u}_{pad} = \\{\\hat{u}_{0},  \\hat{u}_{1}, \\cdots, \\hat{u}_{\\frac{M}{2}}, 0, \\cdots, \\underbrace{0}_{(\\frac{3M}{4})^{th}} , 0, \\cdots, 0, \\hat{u}_{-\\frac{M}{2}+1}, \\cdots, \\hat{u}_{-1}\\}\n",
    "$$\n",
    "\n",
    "$$\n",
    "\\hat{u}_{pad} = \\{\\hat{u}_{pad,0},  \\hat{u}_{pad, 1}, \\cdots, \\hat{u}_{pad, \\frac{M}{2}}, 0, \\cdots, 0, \\hat{u}_{pad,M+1}, \\cdots, \\hat{u}_{pad,\\frac{3M}{2}-1}\\}\n",
    "$$"
   ]
  },
  {
   "cell_type": "markdown",
   "metadata": {},
   "source": [
    "This padded vector will be transformed back to physical space where it will be multiplied by another physical variable."
   ]
  },
  {
   "cell_type": "markdown",
   "metadata": {},
   "source": [
    "$$\n",
    "u_{pad} = \\{u_{pad,0},  u_{pad, 1}, \\cdots, u_{pad, \\frac{M}{2}}, \\cdots, u_{pad,M+1}, \\cdots, u_{pad,\\frac{3M}{2}-1}\\}\n",
    "$$"
   ]
  },
  {
   "cell_type": "markdown",
   "metadata": {},
   "source": [
    "![title](./1D_aliasing/Slide1.png)\n",
    "![title](./2D_aliasing/Slide1.png)\n"
   ]
  },
  {
   "cell_type": "markdown",
   "metadata": {},
   "source": [
    "# Pad and unpad"
   ]
  },
  {
   "cell_type": "code",
   "execution_count": null,
   "metadata": {},
   "outputs": [],
   "source": [
    "def pad(f):\n",
    "        ly, lx = f.shape\n",
    "        lxp = (3 * lx)//2\n",
    "        lyp = (3 * ly)//2\n",
    "        fp = np.zeros([lyp, lxp], dtype=complex)\n",
    "        \n",
    "        fp[0:ly//2+1, 0:lx//2+1] = f[0:ly//2+1, 0:lx//2+1]\n",
    "        fp[0:ly//2+1, lx::     ] = f[0:ly//2+1, lx//2::  ]\n",
    "        fp[ly::     , 0:lx//2+1] = f[ly//2::  , 0:lx//2+1]\n",
    "        fp[ly::     , lx::     ] = f[ly//2::  , lx//2::  ]\n",
    "        return fp\n",
    "\n",
    "def unpad(fp):\n",
    "        lyp, lxp = fp.shape\n",
    "        lx = (2 * lxp)//3\n",
    "        ly = (2 * lyp)//3\n",
    "        f = np.zeros([ly, lx], dtype=complex)\n",
    "\n",
    "        f[0:ly//2+1, 0:lx//2+1] = fp[0:ly//2+1, 0:lx//2+1]\n",
    "        f[0:ly//2+1, lx//2::  ] = fp[0:ly//2+1, lx::     ]\n",
    "        f[ly//2::  , 0:lx//2+1] = fp[ly::     , 0:lx//2+1]\n",
    "        f[ly//2::  , lx//2::  ] = fp[ly::     , lx::     ]\n",
    "\n",
    "        return f"
   ]
  },
  {
   "cell_type": "code",
   "execution_count": null,
   "metadata": {},
   "outputs": [],
   "source": [
    "x = np.arange(200).reshape(10,20)\n",
    "\n",
    "fig = plt.figure(figsize=(9,3))\n",
    "\n",
    "axs = fig.add_subplot(1,3,1)\n",
    "axs.pcolor(x)\n",
    "axs.set_title(\"x\")\n",
    "\n",
    "axs = fig.add_subplot(1,3,2)\n",
    "axs.pcolor(np.real(pad(x)))\n",
    "axs.set_title(\"x -> xp with padding\")\n",
    "\n",
    "axs = fig.add_subplot(1,3,3)\n",
    "img = axs.pcolor(np.real(unpad(pad(x))))\n",
    "axs.set_title(\"xp -> x without padding\")\n",
    "\n",
    "plt.colorbar(img)\n",
    "\n",
    "print(\"x.shape:\", x.shape, \", xp.shape\", pad(x).shape, \", unpad(xp).shape:\", unpad(pad(x)).shape)"
   ]
  },
  {
   "cell_type": "code",
   "execution_count": null,
   "metadata": {},
   "outputs": [],
   "source": [
    "class FlowField:\n",
    "    def __init__(self, grid, nu = 5e-4, pad = True, dt = None):\n",
    "        self.nu =  nu\n",
    "        self.grid  = grid\n",
    "        self.t     = 0        \n",
    "        self.u     = 0 \n",
    "        self.v     = 0\n",
    "        self.omega = 0\n",
    "        self.psi   = 0\n",
    "        self.omegahat = 0\n",
    "        self.pad = pad\n",
    "        if dt:\n",
    "            self.dt = dt\n",
    "        else:\n",
    "            self.dt = 1/(self.grid.nx*4)\n",
    "\n",
    "        self.set_initial_condition()\n",
    "        \n",
    "        # Set wavenumbers\n",
    "        self.kx = self.set_wavenumbers(self.grid.nx, self.grid.lx)\n",
    "        self.ky = self.set_wavenumbers(self.grid.ny, self.grid.ly)\n",
    "        self.kxp = self.set_wavenumbers(self.grid.nxp, self.grid.lxp)\n",
    "        self.kyp = self.set_wavenumbers(self.grid.nyp, self.grid.lyp)\n",
    "\n",
    "        # Create wavenumber grid \n",
    "        self.kxg , self.kyg = np.meshgrid(self.kx,self.ky)     # no padding\n",
    "        self.kxgp , self.kygp = np.meshgrid(self.kxp,self.kyp) # with padding\n",
    "\n",
    "    def set_wavenumbers(self, n, L):\n",
    "        k = np.hstack([np.arange(n/2+1), np.arange(-n/2+1,0)])\n",
    "        k = 2*np.pi*k/L \n",
    "        return k\n",
    "\n",
    "\n",
    "    def set_initial_condition(self, random : bool = True, nv = 100, case = 1):\n",
    "        # If random == True \n",
    "        #   nv number of random Taylor vortics \n",
    "        #   will be used as initial condition.\n",
    "        # If random == False\n",
    "        #   case = 0 : Center vortex\n",
    "        #   case = 1 : Two vortices equally spaced from \n",
    "        #              center along x-axis  \n",
    "        print(\"Setting initial condition.\")\n",
    "        self.omegahat = 0\n",
    "\n",
    "        if random:\n",
    "            for _ in range(nv):\n",
    "                x0 = self.grid.lx * np.random.rand()\n",
    "                y0 = self.grid.ly * np.random.rand()\n",
    "                a0 = self.grid.lx/20\n",
    "                Umax = 2*np.random.rand() - 1\n",
    "\n",
    "                self.omegahat += TaylorVortex(self.grid, x0=x0, y0=y0, a0=a0, Umax=Umax)\n",
    "        else:\n",
    "            if case == 1:\n",
    "                self.omegahat = TaylorVortex(grid = self.grid,\n",
    "                                           x0   = self.grid.lx/2,\n",
    "                                           y0   = self.grid.ly/2,\n",
    "                                           a0   = self.grid.ly/8,\n",
    "                                           Umax = 1)\n",
    "            elif case ==2:\n",
    "                self.omegahat = TaylorVortex(grid  = self.grid, \n",
    "                                             x0    = self.grid.lx/2,\n",
    "                                             y0    = 0.4*self.grid.ly,\n",
    "                                             a0    = self.grid.lx/10,\n",
    "                                             Umax = 1)\n",
    "                self.omegahat+= TaylorVortex(grid  = self.grid, \n",
    "                                             x0    = self.grid.lx/2,\n",
    "                                             y0    = 0.6*self.grid.ly,\n",
    "                                             a0    = self.grid.lx/10,\n",
    "                                             Umax = 1)    \n",
    "            else:\n",
    "                raise Exception(\"Invalid case.\")\n",
    "        print(\"Setting initial condition successful.\")\n",
    "        \n",
    "    def fourier2physical(self):\n",
    "        with np.errstate(divide='ignore', invalid='ignore'):\n",
    "            psihat = self.omegahat/(self.kxg**2 + self.kyg**2) \n",
    "        psihat[0,0] = 0\n",
    "\n",
    "        uhat = psihat * 1j * self.ky.reshape(-1,1) \n",
    "        vhat = psihat * 1j * self.kx.reshape(1,-1) \n",
    "\n",
    "        self.psi = np.fft.ifft2(psihat)\n",
    "        self.u = np.fft.ifft2(uhat)\n",
    "        self.v = np.fft.ifft2(vhat)\n",
    "        self.omega = np.fft.ifft2(self.omegahat)\n",
    "\n",
    "    def rhs(self, t, omegahat):\n",
    "        # Note: here we have used omegahat as input argument\n",
    "        # which will be not tied to object field of omegahat \n",
    "        # and can be updated external integrator like rk4 etc.\n",
    "        # and this function should be sufficient to compute rhs \n",
    "        # based on omegahat.\n",
    "        return -self.nu * (self.kxg**2 + self.kyg**2) * omegahat + self.advection(omegahat)\n",
    "    \n",
    "    def advection(self, omegahat):\n",
    "        # unpadded\n",
    "        with np.errstate(divide='ignore', invalid='ignore'):\n",
    "            psihat = omegahat/(self.kxg**2 + self.kyg**2) \n",
    "        psihat[0,0] = 0\n",
    "\n",
    "        d_omega_hat_dx = omegahat * 1j * self.kxg \n",
    "        d_omega_hat_dy = omegahat * 1j * self.kyg\n",
    "\n",
    "        uhat = psihat * 1j * self.kyg\n",
    "        vhat =-psihat * 1j * self.kxg\n",
    "\n",
    "        if self.pad:\n",
    "            up = np.fft.ifft2(pad(uhat))\n",
    "            vp = np.fft.ifft2(pad(vhat))\n",
    "\n",
    "            d_omega_dxp = np.fft.ifft2(pad(d_omega_hat_dx))\n",
    "            d_omega_dyp = np.fft.ifft2(pad(d_omega_hat_dy))\n",
    "\n",
    "            adv = unpad(np.fft.fft2( -up* d_omega_dxp - vp* d_omega_dyp ))*1.5*1.5\n",
    "            # Multiplication by 1.5\n",
    "            # FFT gives 1/M \\sum ... for time series of length M.\n",
    "            # With padding it outputs 2/(3M) \\sum ... \n",
    "            # while unpadding we expect 2/(3M) \\sum ... -> 1/M \\sum ...\n",
    "            # Thus need to multiply by 3/2 as, (3/2) x [2/(3M) \\sum ...] -> 1/M \\sum ...\n",
    "        else:\n",
    "            u = np.fft.ifft2(uhat)\n",
    "            v = np.fft.ifft2(vhat)\n",
    "\n",
    "            d_omega_dx = np.fft.ifft2(d_omega_hat_dx)\n",
    "            d_omega_dy = np.fft.ifft2(d_omega_hat_dy)\n",
    "\n",
    "            adv = unpad(np.fft.fft2( -up* d_omega_dx - vp* d_omega_dy ))\n",
    "        return adv\n",
    "\n",
    "    def march(self, dt=None):\n",
    "        if dt == None:\n",
    "            dt = self.dt\n",
    "\n",
    "        self.omegahat = rk4(self.rhs, self.omegahat, self.t, self.dt)\n",
    "        self.fourier2physical()"
   ]
  },
  {
   "cell_type": "code",
   "execution_count": null,
   "metadata": {},
   "outputs": [],
   "source": [
    "grid = CartesianGrid(lx=1, ly=1, nx=128, ny=128)\n",
    "flow = FlowField(grid=grid)\n",
    "flow.set_initial_condition(random=False, case=2)\n",
    "\n",
    "fig = plt.figure()\n",
    "axs = fig.add_subplot(1,1,1)\n",
    "axs.pcolor(flow.grid.X,flow.grid.Y,np.real(flow.omegahat))"
   ]
  },
  {
   "cell_type": "code",
   "execution_count": null,
   "metadata": {},
   "outputs": [],
   "source": [
    "flow.fourier2physical()\n",
    "fig = plt.figure()\n",
    "axs = fig.add_subplot(1,1,1)\n",
    "axs.pcolor(flow.grid.X,flow.grid.Y,np.real(flow.omega))"
   ]
  },
  {
   "cell_type": "code",
   "execution_count": null,
   "metadata": {},
   "outputs": [],
   "source": [
    "for i in range(1000):\n",
    "    flow.march()"
   ]
  },
  {
   "cell_type": "code",
   "execution_count": null,
   "metadata": {},
   "outputs": [],
   "source": [
    "flow.fourier2physical()\n",
    "fig = plt.figure()\n",
    "axs = fig.add_subplot(1,1,1)\n",
    "axs.pcolor(flow.grid.X,flow.grid.Y,np.real(flow.omega))"
   ]
  },
  {
   "cell_type": "code",
   "execution_count": null,
   "metadata": {},
   "outputs": [],
   "source": [
    "flow.fourier2physical()\n",
    "fig = plt.figure()\n",
    "axs = fig.add_subplot(1,1,1)\n",
    "axs.pcolor(flow.grid.X,flow.grid.Y,np.real(flow.u))"
   ]
  },
  {
   "cell_type": "code",
   "execution_count": null,
   "metadata": {},
   "outputs": [],
   "source": [
    "flow.fourier2physical()\n",
    "fig = plt.figure()\n",
    "axs = fig.add_subplot(1,1,1)\n",
    "axs.pcolor(flow.grid.X,flow.grid.Y,np.real(flow.v))"
   ]
  },
  {
   "cell_type": "code",
   "execution_count": null,
   "metadata": {},
   "outputs": [],
   "source": [
    "flow.fourier2physical()\n",
    "fig = plt.figure()\n",
    "axs = fig.add_subplot(1,1,1)\n",
    "axs.pcolor(flow.grid.X,flow.grid.Y,np.real(flow.psi))"
   ]
  }
 ],
 "metadata": {
  "kernelspec": {
   "display_name": "venv_local",
   "language": "python",
   "name": "python3"
  },
  "language_info": {
   "codemirror_mode": {
    "name": "ipython",
    "version": 3
   },
   "file_extension": ".py",
   "mimetype": "text/x-python",
   "name": "python",
   "nbconvert_exporter": "python",
   "pygments_lexer": "ipython3",
   "version": "3.10.2"
  }
 },
 "nbformat": 4,
 "nbformat_minor": 2
}
